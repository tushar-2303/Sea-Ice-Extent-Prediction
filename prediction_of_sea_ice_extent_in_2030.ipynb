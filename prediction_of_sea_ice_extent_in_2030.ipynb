{
  "metadata": {
    "kernelspec": {
      "language": "python",
      "display_name": "Python 3",
      "name": "python3"
    },
    "language_info": {
      "pygments_lexer": "ipython3",
      "nbconvert_exporter": "python",
      "version": "3.6.4",
      "file_extension": ".py",
      "codemirror_mode": {
        "name": "ipython",
        "version": 3
      },
      "name": "python",
      "mimetype": "text/x-python"
    },
    "kaggle": {
      "accelerator": "none",
      "dataSources": [
        {
          "sourceId": 486063,
          "sourceType": "datasetVersion",
          "datasetId": 499
        }
      ],
      "dockerImageVersionId": 30369,
      "isInternetEnabled": false,
      "language": "python",
      "sourceType": "notebook",
      "isGpuEnabled": false
    },
    "colab": {
      "provenance": []
    }
  },
  "nbformat_minor": 0,
  "nbformat": 4,
  "cells": [
    {
      "cell_type": "code",
      "source": [
        "import numpy as np\n",
        "import pandas as pd\n",
        "import seaborn as sns\n",
        "import matplotlib.pyplot as plt\n",
        "import statsmodels.api as sm\n",
        "from sklearn.ensemble import RandomForestRegressor, GradientBoostingRegressor\n",
        "from sklearn.metrics import mean_squared_error"
      ],
      "metadata": {
        "execution": {
          "iopub.status.busy": "2023-02-02T17:26:52.203699Z",
          "iopub.execute_input": "2023-02-02T17:26:52.204093Z",
          "iopub.status.idle": "2023-02-02T17:26:53.411521Z",
          "shell.execute_reply.started": "2023-02-02T17:26:52.20406Z",
          "shell.execute_reply": "2023-02-02T17:26:53.410369Z"
        },
        "trusted": true,
        "colab": {
          "base_uri": "https://localhost:8080/"
        },
        "id": "hR1n2-GIKDc3",
        "outputId": "1bb2b836-2acd-453b-a44d-2724ec87d0f6"
      },
      "execution_count": 2,
      "outputs": [
        {
          "output_type": "stream",
          "name": "stdout",
          "text": [
            "Requirement already satisfied: mkl in /usr/local/lib/python3.10/dist-packages (2024.2.1)\n",
            "Requirement already satisfied: intel-openmp>=2023 in /usr/local/lib/python3.10/dist-packages (from mkl) (2024.2.1)\n",
            "Requirement already satisfied: tbb==2021.* in /usr/local/lib/python3.10/dist-packages (from mkl) (2021.13.1)\n",
            "Requirement already satisfied: intel-cmplr-lib-ur==2024.2.1 in /usr/local/lib/python3.10/dist-packages (from intel-openmp>=2023->mkl) (2024.2.1)\n"
          ]
        }
      ]
    },
    {
      "cell_type": "markdown",
      "source": [
        "# **Overview**\n",
        "This is a prediction of the sea ice extent (SIE) in 2030 from the northern hemisphere using a linear regression for the Daily Sea Ice Extent Dataset. Feel free to make suggestions or ask questions.\n",
        "\n",
        "Consider upvoting this notebook, if you found it useful. 👍\n",
        "\n"
      ],
      "metadata": {
        "id": "zAmI32bOKDc5"
      }
    },
    {
      "cell_type": "markdown",
      "source": [
        "# **Data Loading**"
      ],
      "metadata": {
        "id": "rQa9kzJaKDc7"
      }
    },
    {
      "cell_type": "code",
      "source": [
        "df = pd.read_csv('/kaggle/input/daily-sea-ice-extent-data/seaice.csv')"
      ],
      "metadata": {
        "execution": {
          "iopub.status.busy": "2023-02-02T17:26:53.413485Z",
          "iopub.execute_input": "2023-02-02T17:26:53.413875Z",
          "iopub.status.idle": "2023-02-02T17:26:53.585675Z",
          "shell.execute_reply.started": "2023-02-02T17:26:53.413839Z",
          "shell.execute_reply": "2023-02-02T17:26:53.584974Z"
        },
        "trusted": true,
        "colab": {
          "base_uri": "https://localhost:8080/",
          "height": 287
        },
        "id": "T8QUKgogKDc7",
        "outputId": "36fcdd90-cfba-4657-e758-a57dd93e5d73"
      },
      "execution_count": 3,
      "outputs": [
        {
          "output_type": "error",
          "ename": "FileNotFoundError",
          "evalue": "[Errno 2] No such file or directory: '/kaggle/input/daily-sea-ice-extent-data/seaice.csv'",
          "traceback": [
            "\u001b[0;31m---------------------------------------------------------------------------\u001b[0m",
            "\u001b[0;31mFileNotFoundError\u001b[0m                         Traceback (most recent call last)",
            "\u001b[0;32m<ipython-input-3-bbeb9c7161b0>\u001b[0m in \u001b[0;36m<cell line: 1>\u001b[0;34m()\u001b[0m\n\u001b[0;32m----> 1\u001b[0;31m \u001b[0mdf\u001b[0m \u001b[0;34m=\u001b[0m \u001b[0mpd\u001b[0m\u001b[0;34m.\u001b[0m\u001b[0mread_csv\u001b[0m\u001b[0;34m(\u001b[0m\u001b[0;34m'/kaggle/input/daily-sea-ice-extent-data/seaice.csv'\u001b[0m\u001b[0;34m)\u001b[0m\u001b[0;34m\u001b[0m\u001b[0;34m\u001b[0m\u001b[0m\n\u001b[0m",
            "\u001b[0;32m/usr/local/lib/python3.10/dist-packages/pandas/io/parsers/readers.py\u001b[0m in \u001b[0;36mread_csv\u001b[0;34m(filepath_or_buffer, sep, delimiter, header, names, index_col, usecols, dtype, engine, converters, true_values, false_values, skipinitialspace, skiprows, skipfooter, nrows, na_values, keep_default_na, na_filter, verbose, skip_blank_lines, parse_dates, infer_datetime_format, keep_date_col, date_parser, date_format, dayfirst, cache_dates, iterator, chunksize, compression, thousands, decimal, lineterminator, quotechar, quoting, doublequote, escapechar, comment, encoding, encoding_errors, dialect, on_bad_lines, delim_whitespace, low_memory, memory_map, float_precision, storage_options, dtype_backend)\u001b[0m\n\u001b[1;32m    946\u001b[0m     \u001b[0mkwds\u001b[0m\u001b[0;34m.\u001b[0m\u001b[0mupdate\u001b[0m\u001b[0;34m(\u001b[0m\u001b[0mkwds_defaults\u001b[0m\u001b[0;34m)\u001b[0m\u001b[0;34m\u001b[0m\u001b[0;34m\u001b[0m\u001b[0m\n\u001b[1;32m    947\u001b[0m \u001b[0;34m\u001b[0m\u001b[0m\n\u001b[0;32m--> 948\u001b[0;31m     \u001b[0;32mreturn\u001b[0m \u001b[0m_read\u001b[0m\u001b[0;34m(\u001b[0m\u001b[0mfilepath_or_buffer\u001b[0m\u001b[0;34m,\u001b[0m \u001b[0mkwds\u001b[0m\u001b[0;34m)\u001b[0m\u001b[0;34m\u001b[0m\u001b[0;34m\u001b[0m\u001b[0m\n\u001b[0m\u001b[1;32m    949\u001b[0m \u001b[0;34m\u001b[0m\u001b[0m\n\u001b[1;32m    950\u001b[0m \u001b[0;34m\u001b[0m\u001b[0m\n",
            "\u001b[0;32m/usr/local/lib/python3.10/dist-packages/pandas/io/parsers/readers.py\u001b[0m in \u001b[0;36m_read\u001b[0;34m(filepath_or_buffer, kwds)\u001b[0m\n\u001b[1;32m    609\u001b[0m \u001b[0;34m\u001b[0m\u001b[0m\n\u001b[1;32m    610\u001b[0m     \u001b[0;31m# Create the parser.\u001b[0m\u001b[0;34m\u001b[0m\u001b[0;34m\u001b[0m\u001b[0m\n\u001b[0;32m--> 611\u001b[0;31m     \u001b[0mparser\u001b[0m \u001b[0;34m=\u001b[0m \u001b[0mTextFileReader\u001b[0m\u001b[0;34m(\u001b[0m\u001b[0mfilepath_or_buffer\u001b[0m\u001b[0;34m,\u001b[0m \u001b[0;34m**\u001b[0m\u001b[0mkwds\u001b[0m\u001b[0;34m)\u001b[0m\u001b[0;34m\u001b[0m\u001b[0;34m\u001b[0m\u001b[0m\n\u001b[0m\u001b[1;32m    612\u001b[0m \u001b[0;34m\u001b[0m\u001b[0m\n\u001b[1;32m    613\u001b[0m     \u001b[0;32mif\u001b[0m \u001b[0mchunksize\u001b[0m \u001b[0;32mor\u001b[0m \u001b[0miterator\u001b[0m\u001b[0;34m:\u001b[0m\u001b[0;34m\u001b[0m\u001b[0;34m\u001b[0m\u001b[0m\n",
            "\u001b[0;32m/usr/local/lib/python3.10/dist-packages/pandas/io/parsers/readers.py\u001b[0m in \u001b[0;36m__init__\u001b[0;34m(self, f, engine, **kwds)\u001b[0m\n\u001b[1;32m   1446\u001b[0m \u001b[0;34m\u001b[0m\u001b[0m\n\u001b[1;32m   1447\u001b[0m         \u001b[0mself\u001b[0m\u001b[0;34m.\u001b[0m\u001b[0mhandles\u001b[0m\u001b[0;34m:\u001b[0m \u001b[0mIOHandles\u001b[0m \u001b[0;34m|\u001b[0m \u001b[0;32mNone\u001b[0m \u001b[0;34m=\u001b[0m \u001b[0;32mNone\u001b[0m\u001b[0;34m\u001b[0m\u001b[0;34m\u001b[0m\u001b[0m\n\u001b[0;32m-> 1448\u001b[0;31m         \u001b[0mself\u001b[0m\u001b[0;34m.\u001b[0m\u001b[0m_engine\u001b[0m \u001b[0;34m=\u001b[0m \u001b[0mself\u001b[0m\u001b[0;34m.\u001b[0m\u001b[0m_make_engine\u001b[0m\u001b[0;34m(\u001b[0m\u001b[0mf\u001b[0m\u001b[0;34m,\u001b[0m \u001b[0mself\u001b[0m\u001b[0;34m.\u001b[0m\u001b[0mengine\u001b[0m\u001b[0;34m)\u001b[0m\u001b[0;34m\u001b[0m\u001b[0;34m\u001b[0m\u001b[0m\n\u001b[0m\u001b[1;32m   1449\u001b[0m \u001b[0;34m\u001b[0m\u001b[0m\n\u001b[1;32m   1450\u001b[0m     \u001b[0;32mdef\u001b[0m \u001b[0mclose\u001b[0m\u001b[0;34m(\u001b[0m\u001b[0mself\u001b[0m\u001b[0;34m)\u001b[0m \u001b[0;34m->\u001b[0m \u001b[0;32mNone\u001b[0m\u001b[0;34m:\u001b[0m\u001b[0;34m\u001b[0m\u001b[0;34m\u001b[0m\u001b[0m\n",
            "\u001b[0;32m/usr/local/lib/python3.10/dist-packages/pandas/io/parsers/readers.py\u001b[0m in \u001b[0;36m_make_engine\u001b[0;34m(self, f, engine)\u001b[0m\n\u001b[1;32m   1703\u001b[0m                 \u001b[0;32mif\u001b[0m \u001b[0;34m\"b\"\u001b[0m \u001b[0;32mnot\u001b[0m \u001b[0;32min\u001b[0m \u001b[0mmode\u001b[0m\u001b[0;34m:\u001b[0m\u001b[0;34m\u001b[0m\u001b[0;34m\u001b[0m\u001b[0m\n\u001b[1;32m   1704\u001b[0m                     \u001b[0mmode\u001b[0m \u001b[0;34m+=\u001b[0m \u001b[0;34m\"b\"\u001b[0m\u001b[0;34m\u001b[0m\u001b[0;34m\u001b[0m\u001b[0m\n\u001b[0;32m-> 1705\u001b[0;31m             self.handles = get_handle(\n\u001b[0m\u001b[1;32m   1706\u001b[0m                 \u001b[0mf\u001b[0m\u001b[0;34m,\u001b[0m\u001b[0;34m\u001b[0m\u001b[0;34m\u001b[0m\u001b[0m\n\u001b[1;32m   1707\u001b[0m                 \u001b[0mmode\u001b[0m\u001b[0;34m,\u001b[0m\u001b[0;34m\u001b[0m\u001b[0;34m\u001b[0m\u001b[0m\n",
            "\u001b[0;32m/usr/local/lib/python3.10/dist-packages/pandas/io/common.py\u001b[0m in \u001b[0;36mget_handle\u001b[0;34m(path_or_buf, mode, encoding, compression, memory_map, is_text, errors, storage_options)\u001b[0m\n\u001b[1;32m    861\u001b[0m         \u001b[0;32mif\u001b[0m \u001b[0mioargs\u001b[0m\u001b[0;34m.\u001b[0m\u001b[0mencoding\u001b[0m \u001b[0;32mand\u001b[0m \u001b[0;34m\"b\"\u001b[0m \u001b[0;32mnot\u001b[0m \u001b[0;32min\u001b[0m \u001b[0mioargs\u001b[0m\u001b[0;34m.\u001b[0m\u001b[0mmode\u001b[0m\u001b[0;34m:\u001b[0m\u001b[0;34m\u001b[0m\u001b[0;34m\u001b[0m\u001b[0m\n\u001b[1;32m    862\u001b[0m             \u001b[0;31m# Encoding\u001b[0m\u001b[0;34m\u001b[0m\u001b[0;34m\u001b[0m\u001b[0m\n\u001b[0;32m--> 863\u001b[0;31m             handle = open(\n\u001b[0m\u001b[1;32m    864\u001b[0m                 \u001b[0mhandle\u001b[0m\u001b[0;34m,\u001b[0m\u001b[0;34m\u001b[0m\u001b[0;34m\u001b[0m\u001b[0m\n\u001b[1;32m    865\u001b[0m                 \u001b[0mioargs\u001b[0m\u001b[0;34m.\u001b[0m\u001b[0mmode\u001b[0m\u001b[0;34m,\u001b[0m\u001b[0;34m\u001b[0m\u001b[0;34m\u001b[0m\u001b[0m\n",
            "\u001b[0;31mFileNotFoundError\u001b[0m: [Errno 2] No such file or directory: '/kaggle/input/daily-sea-ice-extent-data/seaice.csv'"
          ]
        }
      ]
    },
    {
      "cell_type": "markdown",
      "source": [
        "# **EDA**"
      ],
      "metadata": {
        "id": "7y-nlciNKDc8"
      }
    },
    {
      "cell_type": "code",
      "source": [
        "# first 5 rows of dataframe\n",
        "df.head()"
      ],
      "metadata": {
        "execution": {
          "iopub.status.busy": "2023-02-02T17:26:53.586724Z",
          "iopub.execute_input": "2023-02-02T17:26:53.587145Z",
          "iopub.status.idle": "2023-02-02T17:26:53.60567Z",
          "shell.execute_reply.started": "2023-02-02T17:26:53.587117Z",
          "shell.execute_reply": "2023-02-02T17:26:53.604642Z"
        },
        "trusted": true,
        "id": "CpuJ1zRaKDc8"
      },
      "execution_count": null,
      "outputs": []
    },
    {
      "cell_type": "code",
      "source": [
        "# last 5 rows of dataframe\n",
        "df.tail()"
      ],
      "metadata": {
        "execution": {
          "iopub.status.busy": "2023-02-02T17:26:53.608148Z",
          "iopub.execute_input": "2023-02-02T17:26:53.608554Z",
          "iopub.status.idle": "2023-02-02T17:26:53.621917Z",
          "shell.execute_reply.started": "2023-02-02T17:26:53.608519Z",
          "shell.execute_reply": "2023-02-02T17:26:53.620776Z"
        },
        "trusted": true,
        "id": "y4hL-l5gKDc8"
      },
      "execution_count": null,
      "outputs": []
    },
    {
      "cell_type": "code",
      "source": [
        "# We only take data from the northern hemisphere\n",
        "df = df[df.iloc[:,6]=='north']"
      ],
      "metadata": {
        "execution": {
          "iopub.status.busy": "2023-02-02T17:26:53.623269Z",
          "iopub.execute_input": "2023-02-02T17:26:53.623663Z",
          "iopub.status.idle": "2023-02-02T17:26:53.638996Z",
          "shell.execute_reply.started": "2023-02-02T17:26:53.623625Z",
          "shell.execute_reply": "2023-02-02T17:26:53.637934Z"
        },
        "trusted": true,
        "id": "zGkwmJ7AKDc9"
      },
      "execution_count": null,
      "outputs": []
    },
    {
      "cell_type": "code",
      "source": [
        "df.info()"
      ],
      "metadata": {
        "execution": {
          "iopub.status.busy": "2023-02-02T17:26:53.641042Z",
          "iopub.execute_input": "2023-02-02T17:26:53.641698Z",
          "iopub.status.idle": "2023-02-02T17:26:53.669711Z",
          "shell.execute_reply.started": "2023-02-02T17:26:53.64166Z",
          "shell.execute_reply": "2023-02-02T17:26:53.668675Z"
        },
        "trusted": true,
        "id": "dBerZLf9KDc9"
      },
      "execution_count": null,
      "outputs": []
    },
    {
      "cell_type": "code",
      "source": [
        "df.iloc[:,4].value_counts()"
      ],
      "metadata": {
        "execution": {
          "iopub.status.busy": "2023-02-02T17:26:53.670715Z",
          "iopub.execute_input": "2023-02-02T17:26:53.671864Z",
          "iopub.status.idle": "2023-02-02T17:26:53.686171Z",
          "shell.execute_reply.started": "2023-02-02T17:26:53.671744Z",
          "shell.execute_reply": "2023-02-02T17:26:53.685167Z"
        },
        "trusted": true,
        "id": "sZvLsJaMKDc9"
      },
      "execution_count": null,
      "outputs": []
    },
    {
      "cell_type": "code",
      "source": [
        "corr = df.corr().drop(df.columns[[4]], axis=1)\n",
        "# Generate a mask for the upper triangle\n",
        "mask = np.triu(np.ones_like(corr, dtype=bool))\n",
        "\n",
        "# Set up the matplotlib figure\n",
        "f, ax = plt.subplots(figsize=(11, 9))\n",
        "\n",
        "# Generate a custom diverging colormap\n",
        "cmap = sns.diverging_palette(230, 20, as_cmap=True)\n",
        "\n",
        "# Draw the heatmap with the mask and correct aspect ratio\n",
        "sns.heatmap(corr, mask=mask, cmap=cmap, vmax=.3, center=0,\n",
        "            square=True, linewidths=.5, cbar_kws={\"shrink\": .5})"
      ],
      "metadata": {
        "execution": {
          "iopub.status.busy": "2023-02-02T17:26:53.688793Z",
          "iopub.execute_input": "2023-02-02T17:26:53.689153Z",
          "iopub.status.idle": "2023-02-02T17:26:53.925287Z",
          "shell.execute_reply.started": "2023-02-02T17:26:53.689122Z",
          "shell.execute_reply": "2023-02-02T17:26:53.924142Z"
        },
        "jupyter": {
          "source_hidden": true
        },
        "trusted": true,
        "id": "BHoPaFElKDc-"
      },
      "execution_count": null,
      "outputs": []
    },
    {
      "cell_type": "markdown",
      "source": [
        "We learn:\n",
        "\n",
        "* there are no missing values\n",
        "* the dataset has 13177 rows\n",
        "* the dataset begins in October 1978 and ends in May 2019\n",
        "* the columns of interest are year, month, day and extent\n",
        "* The month variable is the most correlated with the sea ice extent (SIE)"
      ],
      "metadata": {
        "id": "JQKp4gq3KDc-"
      }
    },
    {
      "cell_type": "code",
      "source": [
        "# Save the list of the years\n",
        "years_list = list(df['Year'].value_counts().index)\n",
        "years_list = sorted(years_list)"
      ],
      "metadata": {
        "execution": {
          "iopub.status.busy": "2023-02-02T17:26:53.971755Z",
          "iopub.execute_input": "2023-02-02T17:26:53.972164Z",
          "iopub.status.idle": "2023-02-02T17:26:53.98065Z",
          "shell.execute_reply.started": "2023-02-02T17:26:53.972124Z",
          "shell.execute_reply": "2023-02-02T17:26:53.979448Z"
        },
        "trusted": true,
        "id": "_PUTu697KDc_"
      },
      "execution_count": null,
      "outputs": []
    },
    {
      "cell_type": "code",
      "source": [
        "# Calcule monthly average of sea ice extent\n",
        "def by_months(df):\n",
        "    n_months = 3 + ((2019-1979) * 12) + 5\n",
        "    df_monthly = pd.DataFrame(columns=['Year', 'Month', 'Extent'], index=range(n_months))\n",
        "    i = 0\n",
        "    for year in years_list:\n",
        "\n",
        "        if year == 1978:\n",
        "            months_list = range(10,13)\n",
        "        elif year == 2019:\n",
        "            months_list = range(1,6)\n",
        "        else:\n",
        "            months_list = range(1,13)\n",
        "\n",
        "        for month in months_list:\n",
        "            subset = df[df['Year']==year][df.iloc[:,1]==month]\n",
        "            monthly_mean = np.mean(subset.iloc[:,3])\n",
        "            df_monthly.iloc[i] = [year, month, monthly_mean]\n",
        "            i += 1\n",
        "\n",
        "    return df_monthly\n",
        "\n",
        "df_clean = by_months(df)"
      ],
      "metadata": {
        "execution": {
          "iopub.status.busy": "2023-02-02T17:26:53.982008Z",
          "iopub.execute_input": "2023-02-02T17:26:53.982363Z",
          "iopub.status.idle": "2023-02-02T17:26:54.594189Z",
          "shell.execute_reply.started": "2023-02-02T17:26:53.982333Z",
          "shell.execute_reply": "2023-02-02T17:26:54.593165Z"
        },
        "trusted": true,
        "id": "I_7MhWS5KDc_"
      },
      "execution_count": null,
      "outputs": []
    },
    {
      "cell_type": "code",
      "source": [
        "df_clean.head()"
      ],
      "metadata": {
        "execution": {
          "iopub.status.busy": "2023-02-02T17:26:54.596065Z",
          "iopub.execute_input": "2023-02-02T17:26:54.596552Z",
          "iopub.status.idle": "2023-02-02T17:26:54.607545Z",
          "shell.execute_reply.started": "2023-02-02T17:26:54.596511Z",
          "shell.execute_reply": "2023-02-02T17:26:54.606663Z"
        },
        "trusted": true,
        "id": "s85HaGjPKDc_"
      },
      "execution_count": null,
      "outputs": []
    },
    {
      "cell_type": "code",
      "source": [
        "# Sort the dataset per month and year\n",
        "df_clean = df_clean.sort_values(['Month', 'Year'])\n",
        "df_clean = df_clean.reset_index().drop(['index'], axis=1)\n",
        "df_clean.head()"
      ],
      "metadata": {
        "execution": {
          "iopub.status.busy": "2023-02-02T17:26:54.608546Z",
          "iopub.execute_input": "2023-02-02T17:26:54.609337Z",
          "iopub.status.idle": "2023-02-02T17:26:54.625238Z",
          "shell.execute_reply.started": "2023-02-02T17:26:54.6093Z",
          "shell.execute_reply": "2023-02-02T17:26:54.624007Z"
        },
        "trusted": true,
        "id": "U4UjwCxMKDdA"
      },
      "execution_count": null,
      "outputs": []
    },
    {
      "cell_type": "code",
      "source": [
        "df_clean.tail()"
      ],
      "metadata": {
        "execution": {
          "iopub.status.busy": "2023-02-02T17:26:54.626792Z",
          "iopub.execute_input": "2023-02-02T17:26:54.627215Z",
          "iopub.status.idle": "2023-02-02T17:26:54.640516Z",
          "shell.execute_reply.started": "2023-02-02T17:26:54.627177Z",
          "shell.execute_reply": "2023-02-02T17:26:54.639746Z"
        },
        "trusted": true,
        "id": "2rDhMK5RKDdA"
      },
      "execution_count": null,
      "outputs": []
    },
    {
      "cell_type": "code",
      "source": [
        "mean_years = []\n",
        "std_dict = {}\n",
        "for m in range(1,13):\n",
        "  #Calcule mu and std values\n",
        "  mu = df_clean[df_clean.Month == m]['Extent'].mean()\n",
        "  std = df_clean[df_clean.Month == m]['Extent'].std()\n",
        "  #Save mu and std values\n",
        "  mean_years.append(mu)\n",
        "  std_dict[m] = std"
      ],
      "metadata": {
        "execution": {
          "iopub.status.busy": "2023-02-02T17:47:51.581218Z",
          "iopub.execute_input": "2023-02-02T17:47:51.581585Z",
          "iopub.status.idle": "2023-02-02T17:47:51.60758Z",
          "shell.execute_reply.started": "2023-02-02T17:47:51.581556Z",
          "shell.execute_reply": "2023-02-02T17:47:51.606643Z"
        },
        "jupyter": {
          "source_hidden": true
        },
        "trusted": true,
        "id": "X95m1oniKDdA"
      },
      "execution_count": null,
      "outputs": []
    },
    {
      "cell_type": "code",
      "source": [
        "df_mean_years = pd.DataFrame(mean_years)\n",
        "df_mean_years['Month'] = range(1, 13)\n",
        "df_mean_years.columns = ['Extent', 'Month']\n",
        "plt.figure(figsize=(8, 8))\n",
        "sns.scatterplot(x='Month', y='Extent', data=df_mean_years,  color='blue', sizes=20).set(title='Mean of SIE per month')\n",
        "plt.show()"
      ],
      "metadata": {
        "execution": {
          "iopub.status.busy": "2023-02-02T17:26:54.669777Z",
          "iopub.execute_input": "2023-02-02T17:26:54.670241Z",
          "iopub.status.idle": "2023-02-02T17:26:54.822269Z",
          "shell.execute_reply.started": "2023-02-02T17:26:54.670208Z",
          "shell.execute_reply": "2023-02-02T17:26:54.821086Z"
        },
        "jupyter": {
          "source_hidden": true
        },
        "trusted": true,
        "id": "t9bXc_D2KDdB"
      },
      "execution_count": null,
      "outputs": []
    },
    {
      "cell_type": "markdown",
      "source": [
        "March is the month of the year with the most sea ice extent, and September the least. We use the data from the September months.\n",
        "\n",
        "As a target variable for the linear regression, we calculate the SIE anomalies indicator, which is the difference between the extent for the month in question and the mean for that month based on the January 1981 to December 2010 data. This will then be converted to a percent difference by dividing it by the 1981-2010 average for that month and multiplying the result by 100."
      ],
      "metadata": {
        "id": "sh1MVn4pKDdB"
      }
    },
    {
      "cell_type": "code",
      "source": [
        "#Compute Sea Ice Extent anomalies\n",
        "def anomaliesSIE(df):\n",
        "  #Calcule mean by months from 1981-2010\n",
        "  df_30y = df.query('1981 <= Year <= 2010')\n",
        "  df_30y = df_30y.reset_index().drop(['index'], axis=1)\n",
        "  mean_30y = []\n",
        "  for m in range(1,13):\n",
        "    mu = df[df.Month == m]['Extent'].mean()\n",
        "    mean_30y.append(mu)\n",
        "\n",
        "  #Compute SIE anomalies\n",
        "  anomalies_list = []\n",
        "  for s in range(0, len(df)):\n",
        "    mean_30y_index = df.loc[s, 'Month']-1\n",
        "    #Calcule anomalies\n",
        "    anomalies_SIE = df.loc[s, 'Extent'] - mean_30y[mean_30y_index]\n",
        "    anomalies_SIE = anomalies_SIE/mean_30y[mean_30y_index]*100\n",
        "    #Save anomalies\n",
        "    anomalies_list.append(anomalies_SIE)\n",
        "  df['AnomaliesSIE'] = anomalies_list\n",
        "  return df, mean_30y\n",
        "\n",
        "df_SIE, mean_30y = anomaliesSIE(df_clean)\n",
        "df_SIE.head()"
      ],
      "metadata": {
        "execution": {
          "iopub.status.busy": "2023-02-02T17:26:54.824349Z",
          "iopub.execute_input": "2023-02-02T17:26:54.824769Z",
          "iopub.status.idle": "2023-02-02T17:26:54.863324Z",
          "shell.execute_reply.started": "2023-02-02T17:26:54.824729Z",
          "shell.execute_reply": "2023-02-02T17:26:54.862624Z"
        },
        "trusted": true,
        "id": "iqmZFyGIKDdB"
      },
      "execution_count": null,
      "outputs": []
    },
    {
      "cell_type": "code",
      "source": [
        "df_SIE['Year'] = pd.to_numeric(df_SIE['Year'])\n",
        "#Total\n",
        "sns.lmplot(x='Year', y='AnomaliesSIE', data=df_SIE, height=5.2, aspect=2).set(title='Total')\n",
        "plt.show()\n",
        "#January\n",
        "sns.lmplot(x='Year', y='AnomaliesSIE', data=df_SIE[df_SIE.Month == 3], height=5.2, aspect=2).set(title='Mars')\n",
        "plt.show()\n",
        "#June\n",
        "sns.lmplot(x='Year', y='AnomaliesSIE', data=df_SIE[df_SIE.Month == 9], height=5.2, aspect=2).set(title='September')\n",
        "plt.show()"
      ],
      "metadata": {
        "execution": {
          "iopub.status.busy": "2023-02-02T17:43:17.391128Z",
          "iopub.execute_input": "2023-02-02T17:43:17.3915Z",
          "iopub.status.idle": "2023-02-02T17:43:18.526031Z",
          "shell.execute_reply.started": "2023-02-02T17:43:17.39147Z",
          "shell.execute_reply": "2023-02-02T17:43:18.524578Z"
        },
        "jupyter": {
          "source_hidden": true
        },
        "trusted": true,
        "id": "1IZbQA9BKDdB"
      },
      "execution_count": null,
      "outputs": []
    },
    {
      "cell_type": "markdown",
      "source": [
        "# Linear Regression Modelling"
      ],
      "metadata": {
        "id": "YkPCj6ldKDdC"
      }
    },
    {
      "cell_type": "code",
      "source": [
        "y = np.asarray(df_SIE.AnomaliesSIE, dtype=float)  # response variable\n",
        "x = np.asarray(df_SIE[['Year', 'Month']], dtype=float) # predictor\n",
        "X = sm.add_constant(x)"
      ],
      "metadata": {
        "execution": {
          "iopub.status.busy": "2023-02-02T17:26:55.810079Z",
          "iopub.execute_input": "2023-02-02T17:26:55.810721Z",
          "iopub.status.idle": "2023-02-02T17:26:55.817935Z",
          "shell.execute_reply.started": "2023-02-02T17:26:55.810685Z",
          "shell.execute_reply": "2023-02-02T17:26:55.816775Z"
        },
        "trusted": true,
        "id": "eGV-2bXwKDdC"
      },
      "execution_count": null,
      "outputs": []
    },
    {
      "cell_type": "code",
      "source": [
        "est = sm.OLS(y, X)"
      ],
      "metadata": {
        "execution": {
          "iopub.status.busy": "2023-02-02T17:26:55.819207Z",
          "iopub.execute_input": "2023-02-02T17:26:55.81952Z",
          "iopub.status.idle": "2023-02-02T17:26:55.832128Z",
          "shell.execute_reply.started": "2023-02-02T17:26:55.819491Z",
          "shell.execute_reply": "2023-02-02T17:26:55.831047Z"
        },
        "trusted": true,
        "id": "dWnpKTJIKDdC"
      },
      "execution_count": null,
      "outputs": []
    },
    {
      "cell_type": "code",
      "source": [
        "est = est.fit()"
      ],
      "metadata": {
        "execution": {
          "iopub.status.busy": "2023-02-02T17:26:55.833788Z",
          "iopub.execute_input": "2023-02-02T17:26:55.834404Z",
          "iopub.status.idle": "2023-02-02T17:26:55.845178Z",
          "shell.execute_reply.started": "2023-02-02T17:26:55.834348Z",
          "shell.execute_reply": "2023-02-02T17:26:55.84346Z"
        },
        "trusted": true,
        "id": "TrfBK8n8KDdC"
      },
      "execution_count": null,
      "outputs": []
    },
    {
      "cell_type": "code",
      "source": [
        "print(est.params)\n",
        "print('MSE: ', est.mse_total)\n",
        "print('R_squared: ', est.rsquared)"
      ],
      "metadata": {
        "execution": {
          "iopub.status.busy": "2023-02-02T17:26:55.846665Z",
          "iopub.execute_input": "2023-02-02T17:26:55.847141Z",
          "iopub.status.idle": "2023-02-02T17:26:55.854357Z",
          "shell.execute_reply.started": "2023-02-02T17:26:55.847107Z",
          "shell.execute_reply": "2023-02-02T17:26:55.852505Z"
        },
        "trusted": true,
        "id": "Z7NcwSpEKDdD"
      },
      "execution_count": null,
      "outputs": []
    },
    {
      "cell_type": "code",
      "source": [
        "#The trend expressed in percent per decade\n",
        "est.params[1]*10"
      ],
      "metadata": {
        "execution": {
          "iopub.status.busy": "2023-02-02T17:26:55.856261Z",
          "iopub.execute_input": "2023-02-02T17:26:55.857097Z",
          "iopub.status.idle": "2023-02-02T17:26:55.867493Z",
          "shell.execute_reply.started": "2023-02-02T17:26:55.857049Z",
          "shell.execute_reply": "2023-02-02T17:26:55.866313Z"
        },
        "trusted": true,
        "id": "Vn8KMSeaKDdD"
      },
      "execution_count": null,
      "outputs": []
    },
    {
      "cell_type": "markdown",
      "source": [
        "# Random forest\n"
      ],
      "metadata": {
        "id": "4Ps4yh6xNe84"
      }
    },
    {
      "cell_type": "code",
      "source": [
        "rf_model = RandomForestRegressor(n_estimators=100, random_state=42)\n",
        "rf_model.fit(x, y)\n",
        "y_pred_rf = rf_model.predict(x)"
      ],
      "metadata": {
        "id": "jHbyfW4fNmih"
      },
      "execution_count": null,
      "outputs": []
    },
    {
      "cell_type": "code",
      "source": [
        "gbm_model = GradientBoostingRegressor(n_estimators=100, learning_rate=0.1, max_depth=3, random_state=42)\n",
        "gbm_model.fit(X, y)\n",
        "y_pred_gbm = gbm_model.predict(X)"
      ],
      "metadata": {
        "id": "h48eQbsEOGqe"
      },
      "execution_count": null,
      "outputs": []
    },
    {
      "cell_type": "code",
      "source": [
        "with pm.Model() as model:\n",
        "    alpha = pm.Normal('alpha', mu=0, sigma=10)\n",
        "    beta = pm.Normal('beta', mu=0, sigma=10, shape=(2,))\n",
        "    sigma = pm.HalfNormal('sigma', sigma=1)\n",
        "    mu = alpha + pm.math.dot(X, beta)\n",
        "    Y_obs = pm.Normal('Y_obs', mu=mu, sigma=sigma, observed=y)\n",
        "    trace = pm.sample(500, return_inferencedata=False)\n",
        "    y_pred_bayes = pm.sample_posterior_predictive(trace, samples=500)['Y_obs'].mean(axis=0)"
      ],
      "metadata": {
        "id": "b2d8pvnLOJc-"
      },
      "execution_count": null,
      "outputs": []
    },
    {
      "cell_type": "code",
      "source": [
        "# Comparing the MSE of each model\n",
        "mse_sm = results_sm.mse_total\n",
        "mse_rf = mean_squared_error(y, y_pred_rf)\n",
        "mse_gbm = mean_squared_error(y, y_pred_gbm)\n",
        "mse_bayes = np.mean((y - y_pred_bayes) ** 2)\n",
        "\n",
        "print('MSE for Statsmodels OLS:', mse_sm)\n",
        "print('MSE for Random Forest:', mse_rf)\n",
        "print('MSE for GBM:', mse_gbm)\n",
        "print('MSE for Bayesian LR:', mse_bayes)"
      ],
      "metadata": {
        "id": "Dct6M9-YOOV-"
      },
      "execution_count": null,
      "outputs": []
    },
    {
      "cell_type": "markdown",
      "source": [
        "# Prediction"
      ],
      "metadata": {
        "id": "L3_qUVCBKDdD"
      }
    },
    {
      "cell_type": "code",
      "source": [
        "est.predict()"
      ],
      "metadata": {
        "execution": {
          "iopub.status.busy": "2023-02-02T17:26:55.868958Z",
          "iopub.execute_input": "2023-02-02T17:26:55.870408Z",
          "iopub.status.idle": "2023-02-02T17:26:55.885039Z",
          "shell.execute_reply.started": "2023-02-02T17:26:55.87036Z",
          "shell.execute_reply": "2023-02-02T17:26:55.883918Z"
        },
        "trusted": true,
        "id": "8ffnnEXOKDdE"
      },
      "execution_count": null,
      "outputs": []
    },
    {
      "cell_type": "code",
      "source": [
        "#Predict September 2025 anomaly\n",
        "X_sep2030 = np.array([1, 2030, 9])\n",
        "AnomaliesSIE_sep2030 = float(est.predict(X_sep2030))\n",
        "AnomaliesSIE_sep2030"
      ],
      "metadata": {
        "execution": {
          "iopub.status.busy": "2023-02-02T18:31:43.733611Z",
          "iopub.execute_input": "2023-02-02T18:31:43.733954Z",
          "iopub.status.idle": "2023-02-02T18:31:43.741567Z",
          "shell.execute_reply.started": "2023-02-02T18:31:43.733924Z",
          "shell.execute_reply": "2023-02-02T18:31:43.740361Z"
        },
        "trusted": true,
        "id": "cF4rBrtXKDdE"
      },
      "execution_count": null,
      "outputs": []
    },
    {
      "cell_type": "code",
      "source": [
        "#Calcule sea ice extent in September 2025\n",
        "extent_sep2030 = (AnomaliesSIE_sep2030*mean_30y[8]/100)+mean_30y[8]\n",
        "extent_sep2030 = round(extent_sep2030, 3)\n",
        "extent_sep2030"
      ],
      "metadata": {
        "execution": {
          "iopub.status.busy": "2023-02-02T18:31:44.925683Z",
          "iopub.execute_input": "2023-02-02T18:31:44.926056Z",
          "iopub.status.idle": "2023-02-02T18:31:44.934035Z",
          "shell.execute_reply.started": "2023-02-02T18:31:44.92601Z",
          "shell.execute_reply": "2023-02-02T18:31:44.932994Z"
        },
        "trusted": true,
        "id": "ddFJ3vMFKDdE"
      },
      "execution_count": null,
      "outputs": []
    },
    {
      "cell_type": "code",
      "source": [
        "extent_sep1979 = df_clean[df_clean.Year == 1979].reset_index().loc[8, 'Extent']\n",
        "print('sep_1979:', extent_sep1979, 'sep_2025:', extent_sep2030)"
      ],
      "metadata": {
        "execution": {
          "iopub.status.busy": "2023-02-02T18:31:46.517326Z",
          "iopub.execute_input": "2023-02-02T18:31:46.517706Z",
          "iopub.status.idle": "2023-02-02T18:31:46.526268Z",
          "shell.execute_reply.started": "2023-02-02T18:31:46.517675Z",
          "shell.execute_reply": "2023-02-02T18:31:46.525192Z"
        },
        "trusted": true,
        "id": "6RF8Ss97KDdF"
      },
      "execution_count": null,
      "outputs": []
    },
    {
      "cell_type": "code",
      "source": [
        "#Calcule sea ice extent loss\n",
        "loss_SIE = round(extent_sep1979-extent_sep2030,3)\n",
        "loss_SIE"
      ],
      "metadata": {
        "execution": {
          "iopub.status.busy": "2023-02-02T18:31:47.731054Z",
          "iopub.execute_input": "2023-02-02T18:31:47.731417Z",
          "iopub.status.idle": "2023-02-02T18:31:47.737901Z",
          "shell.execute_reply.started": "2023-02-02T18:31:47.731387Z",
          "shell.execute_reply": "2023-02-02T18:31:47.736973Z"
        },
        "trusted": true,
        "id": "k2Kt7PTTKDdF"
      },
      "execution_count": null,
      "outputs": []
    },
    {
      "cell_type": "markdown",
      "source": [
        "The Artic sea ice extent will be at its minimum of 5.008 millions km² million in 2030, which means the loss in 50 years will be 2.043 km² million, larger than the size of Mexico."
      ],
      "metadata": {
        "id": "7z7fRDd2KDdF"
      }
    }
  ]
}